{
  "cells": [
    {
      "cell_type": "code",
      "execution_count": null,
      "metadata": {
        "colab": {
          "base_uri": "https://localhost:8080/"
        },
        "id": "QeTUItK7OlU9",
        "outputId": "e0b1b1a4-c960-415f-f28a-b3f739ec0300"
      },
      "outputs": [
        {
          "name": "stdout",
          "output_type": "stream",
          "text": [
            "[('p', 1), ('s', 2), ('t', 2)]\n"
          ]
        }
      ],
      "source": [
        "#Task: count the number of names for each first letter.\n",
        "from itertools import groupby\n",
        "names = ['sunaina', 'pranaya', 'srinivas', 'tarun raj', 'tarun ghanta']\n",
        "names.sort()\n",
        "g = groupby(names, lambda name:name[0] )\n",
        "\n",
        "print ([(key, len(list(value))) for key, value in g])"
      ]
    },
    {
      "cell_type": "code",
      "execution_count": null,
      "metadata": {
        "colab": {
          "base_uri": "https://localhost:8080/"
        },
        "id": "g7QDRWIcEwH2",
        "outputId": "1a5648bb-5fdd-4ef0-c224-9f796b305545"
      },
      "outputs": [
        {
          "name": "stdout",
          "output_type": "stream",
          "text": [
            "1 [1]\n",
            "0 [2, 2]\n",
            "1 [3, 3, 3]\n",
            "0 [4, 4, 4, 4]\n"
          ]
        }
      ],
      "source": [
        "from itertools import groupby\n",
        "\n",
        "numbers = [1, 2, 2, 3, 3, 3, 4, 4, 4, 4]\n",
        "\n",
        "# group the numbers by their value modulo 2\n",
        "groups = groupby(numbers, lambda x: x % 2)\n",
        "\n",
        "# iterate over the groups and print them\n",
        "for key, group in groups:\n",
        "    print(key, list(group))\n"
      ]
    },
    {
      "cell_type": "code",
      "execution_count": null,
      "metadata": {
        "colab": {
          "base_uri": "https://localhost:8080/"
        },
        "id": "uw2bd3-2Hg-q",
        "outputId": "26ab6381-d231-465c-83b8-9f9a1df29259"
      },
      "outputs": [
        {
          "name": "stdout",
          "output_type": "stream",
          "text": [
            "Group: 1\n",
            "Value: 1\n",
            "Group: 0\n",
            "Value: 2\n",
            "Group: 1\n",
            "Value: 3\n",
            "Value: 5\n",
            "Value: 7\n",
            "Group: 0\n",
            "Value: 8\n",
            "Group: 1\n",
            "Value: 9\n",
            "Group: 0\n",
            "Value: 10\n"
          ]
        }
      ],
      "source": [
        "numbers = [1, 2, 3, 5, 7, 8, 9, 10]\n",
        "\n",
        "# group the numbers by whether they are even or odd\n",
        "groups = groupby(numbers, lambda x: x % 2)\n",
        "\n",
        "# iterate over the groups and their elements\n",
        "for key, group in groups:\n",
        "    print(\"Group:\", key)\n",
        "    for value in group:\n",
        "        print(\"Value:\", value)"
      ]
    }
  ],
  "metadata": {
    "colab": {
      "provenance": []
    },
    "kernelspec": {
      "display_name": "Python 3",
      "name": "python3"
    },
    "language_info": {
      "name": "python"
    }
  },
  "nbformat": 4,
  "nbformat_minor": 0
}
